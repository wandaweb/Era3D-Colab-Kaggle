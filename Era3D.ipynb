{
  "nbformat": 4,
  "nbformat_minor": 0,
  "metadata": {
    "colab": {
      "provenance": [],
      "gpuType": "T4"
    },
    "kernelspec": {
      "name": "python3",
      "display_name": "Python 3"
    },
    "language_info": {
      "name": "python"
    },
    "accelerator": "GPU"
  },
  "cells": [
    {
      "cell_type": "markdown",
      "source": [
        "# Era3D notebook for Google Colab\n",
        "\n",
        "Requres a hardware accelerator: T4 GPU."
      ],
      "metadata": {
        "id": "yVao9_QWpXSa"
      }
    },
    {
      "cell_type": "code",
      "execution_count": null,
      "metadata": {
        "id": "P_tm6lNbR8qM",
        "collapsed": true,
        "cellView": "form"
      },
      "outputs": [],
      "source": [
        "#@markdown # Installation\n",
        "#@markdown\n",
        "%%time\n",
        "home_dir = '/content'\n",
        "python = 'python'\n",
        "pip = 'pip'\n",
        "install_era_to_google_drive = False #@param {type:\"boolean\"}\n",
        "install_libraries_to_google_drive = False\n",
        "\n",
        "from google.colab import drive\n",
        "import os\n",
        "import stat\n",
        "if (install_era_to_google_drive or install_libraries_to_google_drive):\n",
        "  drive.mount('/content/drive')\n",
        "  os.makedirs('/content/drive/MyDrive/Era3D_Install', exist_ok=True)\n",
        "\n",
        "if (install_era_to_google_drive):\n",
        "  home_dir = '/content/drive/MyDrive/Era3D_Install'\n",
        "\n",
        "def find_bin_folders(folder_path):\n",
        "    bin_folders = []\n",
        "    for root, dirs, files in os.walk(folder_path):\n",
        "        for dir_name in dirs:\n",
        "            if dir_name == 'bin':\n",
        "                bin_folders.append(os.path.join(root, dir_name))\n",
        "    return bin_folders\n",
        "\n",
        "def installEra(home_dir, install_era_to_google_drive):\n",
        "  %cd {home_dir}\n",
        "  !git lfs clone https://huggingface.co/spaces/pengHTYX/Era3D_MV_demo/\n",
        "  %cd {home_dir}/Era3D_MV_demo\n",
        "  !git clone https://github.com/wandaweb/Era3D\n",
        "  !mv {home_dir}/Era3D_MV_demo/Era3D/instant-nsr-pl {home_dir}/Era3D_MV_demo/instant-nsr-pl\n",
        "  !mv {home_dir}/Era3D_MV_demo/Era3D/blender {home_dir}/Era3D_MV_demo/\n",
        "  !mv {home_dir}/Era3D_MV_demo/Era3D/data_lists {home_dir}/Era3D_MV_demo/\n",
        "  !mv {home_dir}/Era3D_MV_demo/Era3D/node_config {home_dir}/Era3D_MV_demo/\n",
        "\n",
        "def installLibraries(home_dir, python, pip):\n",
        "  %cd {home_dir}\n",
        "  !{python} -m pip install --force-reinstall torch==2.1.2 torchvision==0.16.2 torchaudio==2.1.2 xformers --index-url https://download.pytorch.org/whl/cu118\n",
        "  !{pip} install pygments\n",
        "  if not os.path.exists(f'tinycudann-1.7-cp310-cp310-linux_x86_64.whl'):\n",
        "    get_ipython().system('wget \"https://j2q5.c17.e2-1.dev/download/pogscafe/tinycudann-1.7-cp310-cp310-linux_x86_64.whl\"')\n",
        "  !{pip} install tinycudann-1.7-cp310-cp310-linux_x86_64.whl\n",
        "  !{pip} install git+https://github.com/NVlabs/nvdiffrast\n",
        "  %cd {home_dir}/Era3D_MV_demo/\n",
        "  !{pip} install -r requirements.txt\n",
        "  !{pip} install fire spaces\n",
        "  %cd {home_dir}/Era3D_MV_demo/\n",
        "  !git lfs clone https://huggingface.co/pengHTYX/MacLab-Era3D-512-6view\n",
        "  !{pip} install moviepy trimesh rembg icecream\n",
        "  !rm -rf /opt/conda/lib/python3.10/site-packages/aiohttp-3.9.1.dist-info\n",
        "  %cd {home_dir}/Era3D_MV_demo/Era3D/instant-nsr-pl\n",
        "  !{pip} install -r requirements.txt\n",
        "  !{pip} install --force-reinstall numpy\n",
        "  !{pip} install --force-reinstall pydantic\n",
        "  !{pip} install tensorflow[and-cuda]\n",
        "\n",
        "installEra(home_dir, install_era_to_google_drive)\n",
        "if (install_libraries_to_google_drive):\n",
        "    print('installing venv')\n",
        "    venv_parent = '/content/drive/MyDrive/Era3D_Install'\n",
        "    print(venv_parent)\n",
        "    os.chdir(venv_parent)\n",
        "    get_ipython().system('pip install virtualenv')\n",
        "    if not os.path.exists('/content/drive/MyDrive/Era3D_Install/venv'):\n",
        "      get_ipython().system('virtualenv venv -p $(which python3.10)')\n",
        "      installLibraries(home_dir, python, pip)\n",
        "    python = f'{venv_parent}/venv/bin/python'\n",
        "    pip = f'{venv_parent}/venv/bin/pip'\n",
        "    bin_folders = find_bin_folders(f'{venv_parent}/venv')\n",
        "    if bin_folders:\n",
        "      print(\"Found 'bin' folders:\")\n",
        "      for bin_folder in bin_folders:\n",
        "        print(bin_folder)\n",
        "        for filename in os.listdir(bin_folder):\n",
        "            file_path = os.path.join(bin_folder, filename)\n",
        "            if os.path.isfile(file_path):\n",
        "                current_permissions = os.stat(file_path).st_mode\n",
        "                # Add execute permissions for the user, group, and others\n",
        "                os.chmod(file_path, current_permissions | stat.S_IXUSR | stat.S_IXGRP | stat.S_IXOTH)\n",
        "else:\n",
        "  installLibraries(home_dir, python, pip)\n",
        "\n",
        "if (install_era_to_google_drive):\n",
        "    get_ipython().system(f'ln -s {home_dir}/Era3D_MV_demo /content/')\n",
        "\n",
        "!apt install -y mesa-utils freeglut3-dev libnvidia-gl-470 libegl1-mesa-dev\n",
        "\n",
        "import fileinput\n",
        "import os\n",
        "for line in fileinput.input('/content/Era3D_MV_demo/app.py', inplace=True):\n",
        "    if ('demo.queue().launch(share=True, max_threads=80)' in line):\n",
        "       line = line.replace('demo.queue().launch(share=True, max_threads=80)', 'demo.queue().launch(share=False, max_threads=20)')\n",
        "    print(line, end='')"
      ]
    },
    {
      "cell_type": "markdown",
      "source": [
        "\n",
        "\n",
        "---\n",
        "\n"
      ],
      "metadata": {
        "id": "HjZGaxN8r_3c"
      }
    },
    {
      "cell_type": "markdown",
      "source": [
        "# Start the WebUI\n",
        "\n",
        "You can use the web UI to generate images and normals for mesh creation. When finished, move to the next step to generate the 3d model.\n"
      ],
      "metadata": {
        "id": "fR50a_hQrp0y"
      }
    },
    {
      "cell_type": "code",
      "source": [
        "#@markdown # Option 1: Start the Web UI with Localtunnel\n",
        "\n",
        "%cd /content/Era3D_MV_demo\n",
        "!npm install -g localtunnel\n",
        "python = 'python'\n",
        "# @markdown\n",
        "# @markdown Copy the IP address shown in the output above the line\n",
        "# @markdown \"your url is: https://some-random-words.loca.lt\"\n",
        "!wget -q -O - ipv4.icanhazip.com\n",
        "\n",
        "#@markdown Wait for the line that says \"Running on http://127.0.0.1:7860\"\n",
        "\n",
        "#@markdown Click the localtunnel url and paste the IP you copied earlier to the \"Endpoint IP\" text field\n",
        "!lt --port 7860 --local_https False & {python} /content/Era3D_MV_demo/app.py\n",
        "\n",
        "#@markdown If the UI shows a red dot that says 'disconnected' when hovered in the upper\n",
        "#@markdown right corner and the Invoke button is disabled, change 'https' to 'http'\n",
        "#@markdown in the browser's address bar and press enter.\n",
        "#@markdown When the page reloads, the UI should work properly."
      ],
      "metadata": {
        "cellView": "form",
        "collapsed": true,
        "id": "bhKmmYYerZ9w"
      },
      "execution_count": null,
      "outputs": []
    },
    {
      "cell_type": "code",
      "source": [
        "#@markdown # Option 2: Start the Web UI with ngrok\n",
        "!pip install pyngrok\n",
        "\n",
        "from pyngrok import ngrok, conf\n",
        "import fileinput\n",
        "import sys\n",
        "\n",
        "ngrok_token = \"\" #@param {type:\"string\"}\n",
        "ngrok_domain = \"\" #@param {type:\"string\"}\n",
        "#@markdown - Add ngrok token (obtainable from https://ngrok.com)\n",
        "\n",
        "python = 'python'\n",
        "\n",
        "if ngrok_token!=\"\":\n",
        "  ngrok.kill()\n",
        "  srv=ngrok.connect(7860 , pyngrok_config=conf.PyngrokConfig(auth_token=Ngrok_token),\n",
        "                    bind_tls=True, domain=ngrok_domain).public_url\n",
        "  print(srv)\n",
        "  get_ipython().system(f\"{python} /content/Era3D_MV_demo/app.py\")\n",
        "else:\n",
        "  print('An ngrok token is required. You can get one on https://ngrok.com and paste it into the ngrok_token field.')"
      ],
      "metadata": {
        "collapsed": true,
        "id": "njLG3jCEbBOl",
        "cellView": "form"
      },
      "execution_count": null,
      "outputs": []
    },
    {
      "cell_type": "markdown",
      "source": [
        "\n",
        "\n",
        "---\n",
        "\n"
      ],
      "metadata": {
        "id": "qc26-QV2r8ij"
      }
    },
    {
      "cell_type": "code",
      "source": [
        "#@markdown # Generate the mesh\n",
        "#@markdown Check the box below to store output models in Google Drive.\n",
        "use_google_drive = False #@param {type:\"boolean\"}\n",
        "\n",
        "#@markdown Leave the box below empty to use the latest generated images, or enter the full path to the\n",
        "#@markdown images you want turned into a mesh.\n",
        "\n",
        "input_path = '' #@param {type:\"string\"}\n",
        "#@markdown Example: input_path = \"/content/Era3D_MV_demo/mv_res/cropsize-420-cfg3.0/scene@20240605-211017\"\n",
        "\n",
        "# --------------------------------------------------\n",
        "\n",
        "import os\n",
        "\n",
        "def find_highest_second_level_subfolder(path):\n",
        "    highest_folder = None\n",
        "    parent_folder = None\n",
        "    for root, dirs, files in os.walk(path):\n",
        "        depth = root[len(path):].count(os.sep)\n",
        "        if depth == 1:\n",
        "            for d in dirs:\n",
        "                if highest_folder is None or d > highest_folder:\n",
        "                    highest_folder = d\n",
        "                    parent_folder = root\n",
        "    return highest_folder, parent_folder\n",
        "\n",
        "input_dir = ''\n",
        "if input_path == '':\n",
        "  mv_res_path = '/content/Era3D_MV_demo/mv_res'\n",
        "  highest_folder, parent_folder = find_highest_second_level_subfolder(mv_res_path)\n",
        "  input_dir=os.path.join(parent_folder, highest_folder)\n",
        "  print(input_dir)\n",
        "input_dir = input_dir.split('mv_res/')[1]\n",
        "outdir = '/content/output'\n",
        "import os\n",
        "if use_google_drive:\n",
        "  from google.colab import drive\n",
        "  drive.mount('/content/drive')\n",
        "  os.makedirs('/content/drive/MyDrive/Era3D-Output', exist_ok=True)\n",
        "  outdir = '/content/drive/MyDrive/Era3D-Output'\n",
        "\n",
        "os.makedirs(outdir, exist_ok=True)\n",
        "%cd /content/Era3D_MV_demo/instant-nsr-pl\n",
        "!{python} launch.py  --config configs/neuralangelo-ortho-wmask.yaml --gpu 0 \\\n",
        "    --train dataset.root_dir=../mv_res dataset.scene={input_dir} \\\n",
        "    --exp_dir={outdir}\n",
        "print('Finished')"
      ],
      "metadata": {
        "id": "JPcxEjZxckBj",
        "cellView": "form"
      },
      "execution_count": null,
      "outputs": []
    }
  ]
}